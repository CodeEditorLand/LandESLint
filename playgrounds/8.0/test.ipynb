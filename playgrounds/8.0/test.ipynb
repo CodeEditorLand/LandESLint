{
 "cells": [
  {
   "cell_type": "code",
   "execution_count": null,
   "metadata": {},
   "outputs": [],
   "source": [
    "console.log('Hello World');"
   ]
  }
 ],
 "metadata": {
  "language_info": {
   "name": "javascript"
  },
  "orig_nbformat": 4
 },
 "nbformat": 4,
 "nbformat_minor": 2
}
